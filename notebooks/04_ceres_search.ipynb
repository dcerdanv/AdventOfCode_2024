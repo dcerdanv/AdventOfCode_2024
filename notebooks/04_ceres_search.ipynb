{
 "cells": [
  {
   "cell_type": "markdown",
   "id": "073616c7",
   "metadata": {},
   "source": [
    "# Advent of code 2024: Day 4. Ceres Search"
   ]
  },
  {
   "cell_type": "markdown",
   "id": "d56ad98c",
   "metadata": {},
   "source": [
    "- Daniel Cerdán Vélez.\n",
    "- Wednesday, December 4, 2024"
   ]
  },
  {
   "cell_type": "code",
   "execution_count": 1,
   "id": "57543614",
   "metadata": {},
   "outputs": [],
   "source": [
    "import numpy as np"
   ]
  },
  {
   "cell_type": "markdown",
   "id": "01548a48",
   "metadata": {},
   "source": [
    "### --- Day 4: Ceres Search ---\n",
    "\n",
    "\"Looks like the Chief's not here. Next!\" One of The Historians pulls out a device and pushes the only button on it. After a brief flash, you recognize the interior of the [Ceres monitoring station](https://adventofcode.com/2019/day/10)!\n",
    "\n",
    "As the search for the Chief continues, a small Elf who lives on the station tugs on your shirt; she'd like to know if you could help her with her **word search** (your puzzle input). She only has to find one word: `XMAS`.\n",
    "\n",
    "This word search allows words to be horizontal, vertical, diagonal, written backwards, or even overlapping other words. It's a little unusual, though, as you don't merely need to find one instance of `XMAS` - you need to find **all of them**. Here are a few ways `XMAS` might appear, where irrelevant characters have been replaced with `.`:\n",
    "```\n",
    "..X...\n",
    ".SAMX.\n",
    ".A..A.\n",
    "XMAS.S\n",
    ".X....\n",
    "```\n",
    "The actual word search will be full of letters instead. For example:\n",
    "```\n",
    "MMMSXXMASM\n",
    "MSAMXMSMSA\n",
    "AMXSXMAAMM\n",
    "MSAMASMSMX\n",
    "XMASAMXAMM\n",
    "XXAMMXXAMA\n",
    "SMSMSASXSS\n",
    "SAXAMASAAA\n",
    "MAMMMXMMMM\n",
    "MXMXAXMASX\n",
    "```\n",
    "In this word search, `XMAS` occurs a total of **`18`** times; here's the same word search again, but where letters not involved in any `XMAS` have been replaced with `.`:\n",
    "```\n",
    "....XXMAS.\n",
    ".SAMXMS...\n",
    "...S..A...\n",
    "..A.A.MS.X\n",
    "XMASAMX.MM\n",
    "X.....XA.A\n",
    "S.S.S.S.SS\n",
    ".A.A.A.A.A\n",
    "..M.M.M.MM\n",
    ".X.X.XMASX\n",
    "```\n",
    "Take a look at the little Elf's word search. **How many times does `XMAS` appear?**"
   ]
  },
  {
   "cell_type": "code",
   "execution_count": 2,
   "id": "9531b623",
   "metadata": {},
   "outputs": [
    {
     "name": "stdout",
     "output_type": "stream",
     "text": [
      "2532\n"
     ]
    }
   ],
   "source": [
    "with open('../data/input_04.txt', 'r') as f:\n",
    "    word_search = []\n",
    "    for line in f:\n",
    "        word_search.append([letter for letter in line.strip()])\n",
    "word_search = np.array(word_search)\n",
    "\n",
    "combinations = []\n",
    "row, col = word_search.shape\n",
    "\n",
    "# Rows\n",
    "for i in range(row):\n",
    "    combinations.append(\"\".join(word_search[i, :]))\n",
    "\n",
    "# Columns\n",
    "for j in range(col):\n",
    "    combinations.append(\"\".join(word_search[:, j]))\n",
    "    \n",
    "# Diagonals\n",
    "for k in range(-1*col+2, col):\n",
    "    combinations.append(\"\".join(word_search.diagonal(offset=k)))\n",
    "    combinations.append(\"\".join(np.fliplr(word_search).diagonal(offset=k)))\n",
    "\n",
    "print(sum([x.count('XMAS') for x in combinations]) + \\\n",
    "      sum([x.count('SAMX') for x in combinations]))"
   ]
  },
  {
   "cell_type": "markdown",
   "id": "2eb67a84",
   "metadata": {},
   "source": [
    "### --- Part Two ---\n",
    "\n",
    "The Elf looks quizzically at you. Did you misunderstand the assignment?\n",
    "\n",
    "Looking for the instructions, you flip over the word search to find that this isn't actually an **`XMAS`** puzzle; it's an **`X-MAS`** puzzle in which you're supposed to find two `MAS` in the shape of an `X`. One way to achieve that is like this:\n",
    "```\n",
    "M.S\n",
    ".A.\n",
    "M.S\n",
    "```\n",
    "Irrelevant characters have again been replaced with `.` in the above diagram. Within the `X`, each `MAS` can be written forwards or backwards.\n",
    "\n",
    "Here's the same example from before, but this time all of the `X-MAS`es have been kept instead:\n",
    "```\n",
    ".M.S......\n",
    "..A..MSMS.\n",
    ".M.S.MAA..\n",
    "..A.ASMSM.\n",
    ".M.S.M....\n",
    "..........\n",
    "S.S.S.S.S.\n",
    ".A.A.A.A..\n",
    "M.M.M.M.M.\n",
    "..........\n",
    "```\n",
    "In this example, an `X-MAS` appears **`9`** times.\n",
    "\n",
    "Flip the word search from the instructions back over to the word search side and try again. **How many times does an `X-MAS` appear?**"
   ]
  },
  {
   "cell_type": "code",
   "execution_count": 3,
   "id": "bc20fc84",
   "metadata": {},
   "outputs": [
    {
     "name": "stdout",
     "output_type": "stream",
     "text": [
      "1941\n"
     ]
    }
   ],
   "source": [
    "with open('../data/input_04.txt', 'r') as f:\n",
    "    word_search = []\n",
    "    for line in f:\n",
    "        word_search.append([letter for letter in line.strip()])\n",
    "word_search = np.array(word_search)\n",
    "\n",
    "row, col = word_search.shape\n",
    "MAS_array = np.array(['A', 'M', 'S'])\n",
    "MAS_count = 0\n",
    "\n",
    "for i in range(1,row-1):\n",
    "    for j in range(1,col-1):\n",
    "        if word_search[i,j] == \"A\":\n",
    "            aux = word_search[i-1:i+2, j-1:j+2]\n",
    "            if np.array_equal(np.sort(aux.diagonal(offset=0)), MAS_array) and \\\n",
    "               np.array_equal(np.sort(np.fliplr(aux).diagonal(offset=0)), MAS_array):\n",
    "                MAS_count +=1\n",
    "print(MAS_count)"
   ]
  }
 ],
 "metadata": {
  "kernelspec": {
   "display_name": "Python 3 (ipykernel)",
   "language": "python",
   "name": "python3"
  },
  "language_info": {
   "codemirror_mode": {
    "name": "ipython",
    "version": 3
   },
   "file_extension": ".py",
   "mimetype": "text/x-python",
   "name": "python",
   "nbconvert_exporter": "python",
   "pygments_lexer": "ipython3",
   "version": "3.10.9"
  }
 },
 "nbformat": 4,
 "nbformat_minor": 5
}
