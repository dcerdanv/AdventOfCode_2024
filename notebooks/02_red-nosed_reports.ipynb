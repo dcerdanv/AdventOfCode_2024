{
 "cells": [
  {
   "cell_type": "markdown",
   "id": "073616c7",
   "metadata": {},
   "source": [
    "# Advent of code 2024: Day 2. Red-Nosed Reports"
   ]
  },
  {
   "cell_type": "markdown",
   "id": "d56ad98c",
   "metadata": {},
   "source": [
    "- Daniel Cerdán Vélez.\n",
    "- Monday, December 2, 2024"
   ]
  },
  {
   "cell_type": "markdown",
   "id": "01548a48",
   "metadata": {},
   "source": [
    "### --- Day 2: Red-Nosed Reports ---\n",
    "\n",
    "Fortunately, the first location The Historians want to search isn't a long walk from the Chief Historian's office.\n",
    "\n",
    "While the [Red-Nosed Reindeer nuclear fusion/fission plant](https://adventofcode.com/2015/day/19) appears to contain no sign of the Chief Historian, the engineers there run up to you as soon as they see you. Apparently, they **still** talk about the time Rudolph was saved through molecular synthesis from a single electron.\n",
    "\n",
    "They're quick to add that - since you're already here - they'd really appreciate your help analyzing some unusual data from the Red-Nosed reactor. You turn to check if The Historians are waiting for you, but they seem to have already divided into groups that are currently searching every corner of the facility. You offer to help with the unusual data.\n",
    "\n",
    "The unusual data (your puzzle input) consists of many **reports**, one report per line. Each report is a list of numbers called **levels** that are separated by spaces. For example:\n",
    "```\n",
    "7 6 4 2 1\n",
    "1 2 7 8 9\n",
    "9 7 6 2 1\n",
    "1 3 2 4 5\n",
    "8 6 4 4 1\n",
    "1 3 6 7 9\n",
    "```\n",
    "This example data contains six reports each containing five levels.\n",
    "\n",
    "The engineers are trying to figure out which reports are **safe**. The Red-Nosed reactor safety systems can only tolerate levels that are either gradually increasing or gradually decreasing. So, a report only counts as safe if both of the following are true:\n",
    "\n",
    "- The levels are either **all increasing** or **all decreasing**.\n",
    "- Any two adjacent levels differ by **at least one** and **at most three**.\n",
    "\n",
    "In the example above, the reports can be found safe or unsafe by checking those rules:\n",
    "\n",
    "- `7 6 4 2 1`: **Safe** because the levels are all decreasing by 1 or 2.\n",
    "- `1 2 7 8 9`: **Unsafe** because `2 7` is an increase of 5.\n",
    "- `9 7 6 2 1`: **Unsafe** because `6 2` is a decrease of 4.\n",
    "- `1 3 2 4 5`: **Unsafe** because `1 3` is increasing but `3 2` is decreasing.\n",
    "- `8 6 4 4 1`: **Unsafe** because `4 4` is neither an increase or a decrease.\n",
    "- `1 3 6 7 9`: **Safe** because the levels are all increasing by 1, 2, or 3.\n",
    "\n",
    "So, in this example, **`2`** reports are **safe**.\n",
    "\n",
    "Analyze the unusual data from the engineers. **How many reports are safe?**"
   ]
  },
  {
   "cell_type": "code",
   "execution_count": 1,
   "id": "5487379c",
   "metadata": {},
   "outputs": [
    {
     "name": "stdout",
     "output_type": "stream",
     "text": [
      "314\n"
     ]
    }
   ],
   "source": [
    "# Version 1\n",
    "with open('../data/input_02.txt', 'r') as file:\n",
    "    safe_count = 0\n",
    "    for line in file:\n",
    "        levels = line.strip().split(\" \")\n",
    "        safe = 1\n",
    "        diff = []\n",
    "        for i in range(len(levels)-1):\n",
    "            diff.append(int(levels[i+1])-int(levels[i]))\n",
    "        if all(val < 0 for val in diff) or all(val > 0 for val in diff):\n",
    "            for i in range(len(levels)-1):\n",
    "                if not (3 >= abs(int(levels[i+1])-int(levels[i])) >= 1):\n",
    "                    safe = 0\n",
    "        else:\n",
    "            safe = 0\n",
    "        safe_count += safe\n",
    "print(safe_count)"
   ]
  },
  {
   "cell_type": "code",
   "execution_count": 2,
   "id": "d7c02191",
   "metadata": {},
   "outputs": [
    {
     "name": "stdout",
     "output_type": "stream",
     "text": [
      "314\n"
     ]
    }
   ],
   "source": [
    "# Vesion 2\n",
    "with open('../data/input_02.txt', 'r') as file:\n",
    "    safe_count = 0\n",
    "    for line in file:\n",
    "        levels = line.strip().split(\" \")\n",
    "        diff = []\n",
    "        for i in range(len(levels)-1):\n",
    "            diff.append(int(levels[i+1])-int(levels[i]))\n",
    "        if all(1 <= val <= 3 for val in diff) or all(-3 <= val <= -1 for val in diff):\n",
    "            safe_count += 1\n",
    "print(safe_count)"
   ]
  },
  {
   "cell_type": "markdown",
   "id": "f0fa19f7",
   "metadata": {},
   "source": [
    "### --- Part Two ---\n",
    "\n",
    "The engineers are surprised by the low number of safe reports until they realize they forgot to tell you about the Problem Dampener.\n",
    "\n",
    "The Problem Dampener is a reactor-mounted module that lets the reactor safety systems **tolerate a single bad level** in what would otherwise be a safe report. It's like the bad level never happened!\n",
    "\n",
    "Now, the same rules apply as before, except if removing a single level from an unsafe report would make it safe, the report instead counts as safe.\n",
    "\n",
    "More of the above example's reports are now safe:\n",
    "\n",
    "- `7 6 4 2 1`: **Safe** without removing any level.\n",
    "- `1 2 7 8 9`: **Unsafe** regardless of which level is removed.\n",
    "- `9 7 6 2 1`: **Unsafe** regardless of which level is removed.\n",
    "- `1 `**`3`**` 2 4 5`: **Safe** by removing the second level, `3`.\n",
    "- `8 6 `**`4`**` 4 1`: **Safe** by removing the third level, `4`.\n",
    "- `1 3 6 7 9`: **Safe** without removing any level.\n",
    "\n",
    "Thanks to the Problem Dampener, **`4`** reports are actually **safe**!\n",
    "\n",
    "Update your analysis by handling situations where the Problem Dampener can remove a single level from unsafe reports. **How many reports are now safe?**"
   ]
  },
  {
   "cell_type": "code",
   "execution_count": 3,
   "id": "f5443e3c",
   "metadata": {},
   "outputs": [
    {
     "name": "stdout",
     "output_type": "stream",
     "text": [
      "373\n"
     ]
    }
   ],
   "source": [
    "# Version 1\n",
    "def check_levels(lev_array, elem_del):\n",
    "    \n",
    "    aux_levels = lev_array.copy()\n",
    "    aux_diff = []\n",
    "    del aux_levels[elem_del]\n",
    "    \n",
    "    for i in range(len(aux_levels)-1):\n",
    "        aux_diff.append(int(aux_levels[i+1])-int(aux_levels[i]))\n",
    "    if all(1 <= val <= 3 for val in aux_diff) or all(-3 <= val <= -1 for val in aux_diff):\n",
    "        return 1\n",
    "    else:\n",
    "        return 0\n",
    "\n",
    "with open('../data/input_02.txt', 'r') as file:\n",
    "    safe_count = 0\n",
    "    for line in file:\n",
    "        levels = line.strip().split(\" \")\n",
    "        diff = []\n",
    "        for i in range(len(levels)-1):\n",
    "            diff.append(int(levels[i+1])-int(levels[i]))\n",
    "        if all(1 <= val <= 3 for val in diff) or all(-3 <= val <= -1 for val in diff):\n",
    "            safe_count += 1\n",
    "        else:\n",
    "            for i in range(len(levels)):\n",
    "                if check_levels(levels, i):\n",
    "                    safe_count += 1\n",
    "                    break\n",
    "print(safe_count)"
   ]
  },
  {
   "cell_type": "code",
   "execution_count": 4,
   "id": "ee069334",
   "metadata": {},
   "outputs": [
    {
     "name": "stdout",
     "output_type": "stream",
     "text": [
      "373\n"
     ]
    }
   ],
   "source": [
    "# Version 2\n",
    "def check_levels(lev_array, elem_del):\n",
    "    \n",
    "    aux_levels = lev_array.copy()\n",
    "    diff = []\n",
    "    if elem_del != \"\":\n",
    "        del aux_levels[elem_del]\n",
    "\n",
    "    for i in range(len(aux_levels)-1):\n",
    "        diff.append(int(aux_levels[i+1])-int(aux_levels[i]))\n",
    "    if all(1 <= val <= 3 for val in diff) or all(-3 <= val <= -1 for val in diff):\n",
    "        return 1\n",
    "    else:\n",
    "        return 0\n",
    "\n",
    "with open('../data/input_02.txt', 'r') as file:\n",
    "    safe_count = 0\n",
    "    for line in file:\n",
    "        levels = line.strip().split(\" \")\n",
    "        \n",
    "        if check_levels(levels, \"\"):\n",
    "            safe_count += 1\n",
    "        else:\n",
    "            for i in range(len(levels)):\n",
    "                if check_levels(levels, i):\n",
    "                    safe_count += 1\n",
    "                    break\n",
    "print(safe_count)"
   ]
  }
 ],
 "metadata": {
  "kernelspec": {
   "display_name": "Python 3 (ipykernel)",
   "language": "python",
   "name": "python3"
  },
  "language_info": {
   "codemirror_mode": {
    "name": "ipython",
    "version": 3
   },
   "file_extension": ".py",
   "mimetype": "text/x-python",
   "name": "python",
   "nbconvert_exporter": "python",
   "pygments_lexer": "ipython3",
   "version": "3.9.15"
  }
 },
 "nbformat": 4,
 "nbformat_minor": 5
}
