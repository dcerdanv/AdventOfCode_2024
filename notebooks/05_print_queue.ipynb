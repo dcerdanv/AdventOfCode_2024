{
 "cells": [
  {
   "cell_type": "markdown",
   "id": "073616c7",
   "metadata": {},
   "source": [
    "# Advent of code 2024: Day 5. Print Queue"
   ]
  },
  {
   "cell_type": "markdown",
   "id": "d56ad98c",
   "metadata": {},
   "source": [
    "- Daniel Cerdán Vélez.\n",
    "- Thursday, December 5, 2024"
   ]
  },
  {
   "cell_type": "code",
   "execution_count": 1,
   "id": "57543614",
   "metadata": {},
   "outputs": [],
   "source": [
    "import pandas as pd"
   ]
  },
  {
   "cell_type": "markdown",
   "id": "01548a48",
   "metadata": {},
   "source": [
    "### --- Day 5: Print Queue ---\n",
    "\n",
    "Satisfied with their search on Ceres, the squadron of scholars suggests subsequently scanning the stationery stacks of sub-basement 17.\n",
    "\n",
    "The North Pole printing department is busier than ever this close to Christmas, and while The Historians continue their search of this historically significant facility, an Elf operating a [very familiar printer](https://adventofcode.com/2017/day/1) beckons you over.\n",
    "\n",
    "The Elf must recognize you, because they waste no time explaining that the new **sleigh launch safety manual** updates won't print correctly. Failure to update the safety manuals would be dire indeed, so you offer your services.\n",
    "\n",
    "Safety protocols clearly indicate that new pages for the safety manuals must be printed in a **very specific order**. The notation `X|Y` means that if both page number `X` and page number `Y` are to be produced as part of an update, page number `X` **must** be printed at some point before page number `Y`.\n",
    "\n",
    "The Elf has for you both the **page ordering rules** and the **pages to produce** in each update (your puzzle input), but can't figure out whether each update has the pages in the right order.\n",
    "\n",
    "For example:\n",
    "```\n",
    "47|53\n",
    "97|13\n",
    "97|61\n",
    "97|47\n",
    "75|29\n",
    "61|13\n",
    "75|53\n",
    "29|13\n",
    "97|29\n",
    "53|29\n",
    "61|53\n",
    "97|53\n",
    "61|29\n",
    "47|13\n",
    "75|47\n",
    "97|75\n",
    "47|61\n",
    "75|61\n",
    "47|29\n",
    "75|13\n",
    "53|13\n",
    "\n",
    "75,47,61,53,29\n",
    "97,61,53,29,13\n",
    "75,29,13\n",
    "75,97,47,61,53\n",
    "61,13,29\n",
    "97,13,75,29,47\n",
    "```\n",
    "The first section specifies the **page ordering rules**, one per line. The first rule, `47|53`, means that if an update includes both page number 47 and page number 53, then page number 47 **must** be printed at some point before page number 53. (47 doesn't necessarily need to be **immediately** before 53; other pages are allowed to be between them.)\n",
    "\n",
    "The second section specifies the page numbers of each **update**. Because most safety manuals are different, the pages needed in the updates are different too. The first update, `75,47,61,53,29`, means that the update consists of page numbers 75, 47, 61, 53, and 29.\n",
    "\n",
    "To get the printers going as soon as possible, start by identifying **which updates are already in the right order**.\n",
    "\n",
    "In the above example, the first update (`75,47,61,53,29` is in the right order:\n",
    "\n",
    "- `75` is correctly first because there are rules that put each other page after it: `75|47`, `75|61`, `75|53`, and `75|29`.\n",
    "- `47` is correctly second because 75 must be before it (`75|47`) and every other page must be after it according to `47|61`, `47|53`, and `47|29`.\n",
    "- `61` is correctly in the middle because 75 and 47 are before it (`75|61` and `47|61`) and 53 and 29 are after it (`61|53` and `61|29`).\n",
    "- `53` is correctly fourth because it is before page number 29 (`53|29`.\n",
    "- `29` is the only page left and so is correctly last.\n",
    "\n",
    "Because the first update does not include some page numbers, the ordering rules involving those missing page numbers are ignored.\n",
    "\n",
    "The second and third updates are also in the correct order according to the rules. Like the first update, they also do not include every page number, and so only some of the ordering rules apply - within each update, the ordering rules that involve missing page numbers are not used.\n",
    "\n",
    "The fourth update, `75,97,47,61,53`, is **not** in the correct order: it would print 75 before 97, which violates the rule `97|75`.\n",
    "\n",
    "The fifth update, `61,13,29`, is also **not** in the correct order, since it breaks the rule `29|13`.\n",
    "\n",
    "The last update, `97,13,75,29,47`, is **not** in the correct order due to breaking several rules.\n",
    "\n",
    "For some reason, the Elves also need to know the **middle page number** of each update being printed. Because you are currently only printing the correctly-ordered updates, you will need to find the middle page number of each correctly-ordered update. In the above example, the correctly-ordered updates are:\n",
    "\n",
    "`75,47,`**`61`**`,53,29`\n",
    "\n",
    "`97,61,`**`53`**`,29,13`\n",
    "\n",
    "`75,`**`29`**`,13`\n",
    "\n",
    "These have middle page numbers of `61`, `53`, and `29` respectively. Adding these page numbers together gives **`143`**.\n",
    "\n",
    "Of course, you'll need to be careful: the actual list of **page ordering rules** is bigger and more complicated than the above example.\n",
    "\n",
    "Determine which updates are already in the correct order. **What do you get if you add up the middle page number from those correctly-ordered updates?**"
   ]
  },
  {
   "cell_type": "code",
   "execution_count": 2,
   "id": "9531b623",
   "metadata": {
    "scrolled": true
   },
   "outputs": [
    {
     "name": "stdout",
     "output_type": "stream",
     "text": [
      "3608\n"
     ]
    }
   ],
   "source": [
    "# Load input file\n",
    "with open('../data/input_05.txt', 'r') as f:\n",
    "    rules = []\n",
    "    updates = []\n",
    "    file_part = 'rules'\n",
    "    for line in f:\n",
    "        if line == \"\\n\":\n",
    "            file_part = 'updates'\n",
    "        elif file_part == 'rules':\n",
    "            before, after = [int(x) for x in line.strip().split('|')]\n",
    "            rules.append([before, after])\n",
    "        elif file_part == 'updates':\n",
    "            updates.append([int(x) for x in line.strip().split(',')])        \n",
    "    rules = pd.DataFrame(rules, columns = ['before', 'after'])\n",
    "\n",
    "\n",
    "total_sum = 0\n",
    "\n",
    "for update in updates:\n",
    "    correct = True\n",
    "    for i in range(len(update)):\n",
    "        for j in range(i+1, len(update)):\n",
    "            if not ((rules['before'] == update[i]) & (rules['after'] == update[j])).any():\n",
    "                # Wrong update\n",
    "                correct = False\n",
    "                break\n",
    "        if correct == False:\n",
    "            break\n",
    "    if correct == True:\n",
    "        total_sum += update[len(update)//2]\n",
    "\n",
    "print(total_sum)"
   ]
  },
  {
   "cell_type": "markdown",
   "id": "d1d72fff",
   "metadata": {},
   "source": [
    "### --- Part Two ---\n",
    "\n",
    "While the Elves get to work printing the correctly-ordered updates, you have a little time to fix the rest of them.\n",
    "\n",
    "For each of the **incorrectly-ordered updates**, use the page ordering rules to put the page numbers in the right order. For the above example, here are the three incorrectly-ordered updates and their correct orderings:\n",
    "\n",
    "- `75,97,47,61,53` becomes `97,75,`**`47`**`,61,53`.\n",
    "- `61,13,29` becomes `61,`**`29`**`,13`.\n",
    "- `97,13,75,29,47` becomes `97,75,`**`47`**`,29,13`.\n",
    "\n",
    "After taking **only the incorrectly-ordered updates** and ordering them correctly, their middle page numbers are `47`, `29`, and `47`. Adding these together produces `123`.\n",
    "\n",
    "Find the updates which are not in the correct order. **What do you get if you add up the middle page numbers after correctly ordering just those updates?**"
   ]
  },
  {
   "cell_type": "code",
   "execution_count": 3,
   "id": "830bfad8",
   "metadata": {},
   "outputs": [
    {
     "name": "stdout",
     "output_type": "stream",
     "text": [
      "4922\n"
     ]
    }
   ],
   "source": [
    "# Load input file\n",
    "with open('../data/input_05.txt', 'r') as f:\n",
    "    rules = []\n",
    "    updates = []\n",
    "    file_part = 'rules'\n",
    "    for line in f:\n",
    "        if line == \"\\n\":\n",
    "            file_part = 'updates'\n",
    "        elif file_part == 'rules':\n",
    "            before, after = [int(x) for x in line.strip().split('|')]\n",
    "            rules.append([before, after])\n",
    "        elif file_part == 'updates':\n",
    "            updates.append([int(x) for x in line.strip().split(',')])        \n",
    "    rules = pd.DataFrame(rules, columns = ['before', 'after'])\n",
    "\n",
    "\n",
    "total_sum = 0\n",
    "\n",
    "for update in updates:\n",
    "    correct = True\n",
    "    for i in range(len(update)):\n",
    "        for j in range(i+1, len(update)):\n",
    "            if not ((rules['before'] == update[i]) & (rules['after'] == update[j])).any():\n",
    "                # Wrong update\n",
    "                correct = False\n",
    "                element = update.pop(j)\n",
    "                update.insert(i,element)\n",
    "\n",
    "    if correct == False:\n",
    "        total_sum += update[len(update)//2]\n",
    "\n",
    "print(total_sum)"
   ]
  }
 ],
 "metadata": {
  "kernelspec": {
   "display_name": "Python 3 (ipykernel)",
   "language": "python",
   "name": "python3"
  },
  "language_info": {
   "codemirror_mode": {
    "name": "ipython",
    "version": 3
   },
   "file_extension": ".py",
   "mimetype": "text/x-python",
   "name": "python",
   "nbconvert_exporter": "python",
   "pygments_lexer": "ipython3",
   "version": "3.10.9"
  }
 },
 "nbformat": 4,
 "nbformat_minor": 5
}
